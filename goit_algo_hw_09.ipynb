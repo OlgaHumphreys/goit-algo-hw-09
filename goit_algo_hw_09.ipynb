{
  "nbformat": 4,
  "nbformat_minor": 0,
  "metadata": {
    "colab": {
      "provenance": [],
      "authorship_tag": "ABX9TyOQCPibHH9fKgQe+ocpzNUL",
      "include_colab_link": true
    },
    "kernelspec": {
      "name": "python3",
      "display_name": "Python 3"
    },
    "language_info": {
      "name": "python"
    }
  },
  "cells": [
    {
      "cell_type": "markdown",
      "metadata": {
        "id": "view-in-github",
        "colab_type": "text"
      },
      "source": [
        "<a href=\"https://colab.research.google.com/github/OlgaHumphreys/goit-algo-hw-09/blob/main/goit_algo_hw_09.ipynb\" target=\"_parent\"><img src=\"https://colab.research.google.com/assets/colab-badge.svg\" alt=\"Open In Colab\"/></a>"
      ]
    },
    {
      "cell_type": "markdown",
      "source": [
        "Як було вже зазначено, лінійне програмування (ЛП) широко застосовується у багатьох галузях індустрії та науки завдяки його практичності та ефективності. Оскільки розв’язання задач ЛП дозволяє оптимізувати логістичні та виробничі процеси, компанії використовують його для мінімізації витрат на транспортування та максимізації виробництва, враховуючи різноманітні обмеження.\n",
        "\n",
        "Тому сьогодні ви зануритеся у світ оптимізації виробництва, де обмежені ресурси впливають на прийняття рішень. Ви використаєте бібліотеку PuLP для створення математичної моделі, яка допоможе вам максимізувати виробництво продуктів, дотримуючись визначених обмежень.\n",
        "\n",
        "Метод Монте-Карло також є дуже практичним інструментом, особливо у сфері обчислень та імітації. Коли точні аналітичні обчислення можуть бути важкими або навіть неможливими, метод Монте-Карло є ефективним інструментом для отримання приблизних результатів. Тому сьогодні ви потренуєтесь знаходити значення інтеграла, використовуючи метод Монте-Карло.\n",
        "\n",
        "Таким чином, домашнє завдання буде складатися з двох незалежних завдань."
      ],
      "metadata": {
        "id": "-gCgs7uNISH4"
      }
    },
    {
      "cell_type": "markdown",
      "source": [
        "Завдання 1. Оптимізація виробництва\n",
        "\n",
        "Компанія виробляє два види напоїв: \"Лимонад\" і \"Фруктовий сік\". Для виробництва цих напоїв використовуються різні інгредієнти та обмежена кількість обладнання. Задача полягає у максимізації виробництва, враховуючи обмежені ресурси.\n",
        "\n",
        "Умови завдання:\n",
        "\n",
        "\"Лимонад\" виготовляється з \"Води\", \"Цукру\" та \"Лимонного соку\".\n",
        "\"Фруктовий сік\" виготовляється з \"Фруктового пюре\" та \"Води\".\n",
        "Обмеження ресурсів: 100 од. \"Води\", 50 од. \"Цукру\", 30 од. \"Лимонного соку\" та 40 од. \"Фруктового пюре\".\n",
        "Виробництво одиниці \"Лимонаду\" вимагає 2 од. \"Води\", 1 од. \"Цукру\" та 1 од. \"Лимонного соку\".\n",
        "Виробництво одиниці \"Фруктового соку\" вимагає 2 од. \"Фруктового пюре\" та 1 од. \"Води\".\n",
        "Використовуючи PuLP, створіть модель, яка визначає, скільки \"Лимонаду\" та \"Фруктового соку\" потрібно виробити для максимізації загальної кількості продуктів, дотримуючись обмежень на ресурси. Напишіть програму, код якої максимізує загальну кількість вироблених продуктів \"Лимонад\" та \"Фруктовий сік\", враховуючи обмеження на кількість ресурсів."
      ],
      "metadata": {
        "id": "rB4Llb-rIbzq"
      }
    },
    {
      "cell_type": "code",
      "execution_count": null,
      "metadata": {
        "id": "SgrSxJnqIJaZ"
      },
      "outputs": [],
      "source": [
        "import PuLP as pulp\n",
        "\n",
        "problem = pulp.LpProblem(\"Maximize Production\", pulp.LpMaximize)\n",
        "\n",
        "lemonade = pulp.LpVariable('Lemonade', lowBound=0, cat='Integer')\n",
        "fruit_juice = pulp.LpVariable('FruitJuice', lowBound=0, cat='Integer')\n",
        "\n",
        "problem += lemonade + fruit_juice, \"Total Products\"\n",
        "\n",
        "problem += 2 * lemonade + 1 * fruit_juice <= 100, \"Water Constraint\"\n",
        "problem += 1 * lemonade <= 50, \"Sugar Constraint\"\n",
        "problem += 1 * lemonade <= 30, \"Lemon Juice Constraint\"\n",
        "problem += 2 * fruit_juice <= 40, \"Fruit Puree Constraint\"\n",
        "\n",
        "problem.solve()\n",
        "\n",
        "print(f\"Status: {pulp.LpStatus[problem.status]}\")\n",
        "print(f\"Optimal number of Lemonade: {pulp.value(lemonade)}\")\n",
        "print(f\"Optimal number of Fruit Juice: {pulp.value(fruit_juice)}\")\n",
        "print(f\"Total products: {pulp.value(problem.objective)}\")\n"
      ]
    },
    {
      "cell_type": "markdown",
      "source": [
        "Завдання 2. Обчислення визначеного інтеграла.\n",
        "\n"
      ],
      "metadata": {
        "id": "UsnJghhDJkil"
      }
    },
    {
      "cell_type": "markdown",
      "source": [],
      "metadata": {
        "id": "5skm0aaxI2LJ"
      }
    },
    {
      "cell_type": "code",
      "source": [
        "import matplotlib.pyplot as plt\n",
        "import numpy as np\n",
        "\n",
        "# Визначення функції та межі інтегрування\n",
        "def f(x):\n",
        "    return x ** 2\n",
        "\n",
        "a = 0  # Нижня межа\n",
        "b = 2  # Верхня межа\n",
        "\n",
        "# Створення діапазону значень для x\n",
        "x = np.linspace(-0.5, 2.5, 400)\n",
        "y = f(x)\n",
        "\n",
        "# Створення графіка\n",
        "fig, ax = plt.subplots()\n",
        "\n",
        "# Малювання функції\n",
        "ax.plot(x, y, 'r', linewidth=2)\n",
        "\n",
        "# Заповнення області під кривою\n",
        "ix = np.linspace(a, b)\n",
        "iy = f(ix)\n",
        "ax.fill_between(ix, iy, color='gray', alpha=0.3)\n",
        "\n",
        "# Налаштування графіка\n",
        "ax.set_xlim([x[0], x[-1]])\n",
        "ax.set_ylim([0, max(y) + 0.1])\n",
        "ax.set_xlabel('x')\n",
        "ax.set_ylabel('f(x)')\n",
        "\n",
        "# Додавання меж інтегрування та назви графіка\n",
        "ax.axvline(x=a, color='gray', linestyle='--')\n",
        "ax.axvline(x=b, color='gray', linestyle='--')\n",
        "ax.set_title('Графік інтегрування f(x) = x^2 від ' + str(a) + ' до ' + str(b))\n",
        "plt.grid()\n",
        "plt.show()\n"
      ],
      "metadata": {
        "id": "VceamEf6JsPi"
      },
      "execution_count": null,
      "outputs": []
    },
    {
      "cell_type": "markdown",
      "source": [
        "Монте-Карло\n"
      ],
      "metadata": {
        "id": "j0rkD-QHLwxS"
      }
    },
    {
      "cell_type": "code",
      "source": [
        "import numpy as np\n",
        "\n",
        "def f(x):\n",
        "    return x ** 2\n",
        "\n",
        "a = 0\n",
        "b = 2\n",
        "\n",
        "N = 100000\n",
        "\n",
        "x_random = np.random.uniform(a, b, N)\n",
        "y_random = f(x_random)\n",
        "integral_mc = (b - a) * np.mean(y_random)\n",
        "\n",
        "print(f\"Integral method Monte_Karlo: {integral_mc}\")\n"
      ],
      "metadata": {
        "id": "Xjy7Ou5DMDTd"
      },
      "execution_count": null,
      "outputs": []
    },
    {
      "cell_type": "markdown",
      "source": [
        "Перевірка точності методом quad з бібліотеки SciPy"
      ],
      "metadata": {
        "id": "wnf5XwWpMIo_"
      }
    },
    {
      "cell_type": "code",
      "source": [
        "import scipy.integrate as spi\n",
        "\n",
        "# Визначте функцію, яку потрібно інтегрувати\n",
        "def f(x):\n",
        "    return x ** 2\n",
        "\n",
        "# Визначте межі інтегрування\n",
        "a = 0\n",
        "b = 2\n",
        "\n",
        "# Обчислення інтеграла\n",
        "result, error = spi.quad(f, a, b)\n",
        "\n",
        "print(\"Інтеграл: \", result)\n"
      ],
      "metadata": {
        "id": "XKTsv-ZLMNjL"
      },
      "execution_count": null,
      "outputs": []
    },
    {
      "cell_type": "markdown",
      "source": [
        "Інтеграл методом Монте-Карло: (значення залежить від виконання, наприклад, 2.669)\n",
        "Інтеграл за допомогою quad: 2.666666666666667\n",
        "Абсолютна помилка: 2.960594732333751e-14\n",
        "Метод Монте-Карло показав результат, який близький до точного значення інтегралу, обчисленого аналітично. Це підтверджує ефективність методу Монте-Карло для наближених обчислень інтегралів, особливо коли точні аналітичні обчислення важкі або неможливі."
      ],
      "metadata": {
        "id": "4KM0M3klNkiF"
      }
    }
  ]
}